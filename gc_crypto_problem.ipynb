{
  "nbformat": 4,
  "nbformat_minor": 0,
  "metadata": {
    "colab": {
      "name": "gc_crypto_problem.ipynb",
      "provenance": [],
      "authorship_tag": "ABX9TyP9OvqeznFG8x+rMfVKkEN6",
      "include_colab_link": true
    },
    "kernelspec": {
      "name": "python3",
      "display_name": "Python 3"
    },
    "language_info": {
      "name": "python"
    }
  },
  "cells": [
    {
      "cell_type": "markdown",
      "metadata": {
        "id": "view-in-github",
        "colab_type": "text"
      },
      "source": [
        "<a href=\"https://colab.research.google.com/github/Banu-G/banu-g/blob/master/gc_crypto_problem.ipynb\" target=\"_parent\"><img src=\"https://colab.research.google.com/assets/colab-badge.svg\" alt=\"Open In Colab\"/></a>"
      ]
    },
    {
      "cell_type": "markdown",
      "source": [
        "Crypto Problem:\n",
        "https://www.hackerrank.com/contests/modena-coding-dec-2017/challenges/the-master-of-cryptocurrencies"
      ],
      "metadata": {
        "id": "_fr0yOV-Wkh1"
      }
    },
    {
      "cell_type": "code",
      "execution_count": 1,
      "metadata": {
        "colab": {
          "base_uri": "https://localhost:8080/"
        },
        "id": "BqEgOOHoWdji",
        "outputId": "2c5a801f-a19f-4b93-a62b-84b5ad03d912"
      },
      "outputs": [
        {
          "output_type": "stream",
          "name": "stdout",
          "text": [
            "Enter number of currencies excluding bitcoin, bitcoins Ron has and  conversion rate of bitcoin w.r.t dollar separated by space 10 1 1000\n",
            "Enter Crypto conversion rates in dollars separated by space 1 2 3 4 5 1 2 5 5 6 8\n",
            "Enter Crypto conversion rates in dollars separated by space 1 2 3 4 5 1 2 5 5 6\n",
            "Enter Crypto units 1 bitcoin can buy separated by space 1\n",
            "Enter Crypto units 1 bitcoin can buy separated by space 2 3 4 1 2 4 5 6 5 6\n",
            "User Entries: [10, 1, 1000]\n",
            "Crypto Conversion rates in dollars: [1, 2, 3, 4, 5, 1, 2, 5, 5, 6]\n",
            "Crypto Units for 1 bitcoin: [2, 3, 4, 1, 2, 4, 5, 6, 5, 6]\n",
            "1000\n"
          ]
        }
      ],
      "source": [
        "#Clean user input: convert to int and craete a list out of it.\n",
        "def  clean_user_inpt(input_string):\n",
        "    my_list = input_string.split()\n",
        "    # convert each item to int type\n",
        "    for i in range(len(my_list)):\n",
        "        # convert each item to int type\n",
        "        my_list[i] = int(my_list[i])\n",
        "    # print user entries\n",
        "    return my_list\n",
        "#Check if there are correct number in the user entiries. It should be equal to 1st entry in the.\n",
        "def check_number_of_units(units_expected,str_comment):\n",
        "    user_str=input(str_comment)\n",
        "    user_int=clean_user_inpt(user_str)\n",
        "    units_entered = len(user_int)\n",
        "    \n",
        "    while units_expected != units_entered:   \n",
        "        user_str=input(str_comment)\n",
        "        units_entered = len(clean_user_inpt(user_str))\n",
        "        print(\" You have to eneter only %s currencies\",units_expected)\n",
        "    else:\n",
        "        # print(\"in else\")\n",
        "        return user_str\n",
        "\n",
        "input_string = input('Enter number of currencies excluding bitcoin, bitcoins Ron has and  conversion rate of bitcoin w.r.t dollar separated by space ')\n",
        "user_entires = clean_user_inpt(input_string)\n",
        "\n",
        "c_in_dollars = input('Enter Crypto conversion rates in dollars separated by space ')\n",
        "crypto_conv_rate_in_dollars=clean_user_inpt(c_in_dollars)\n",
        "\n",
        "c_in_dollars=check_number_of_units(user_entires[0],'Enter Crypto conversion rates in dollars separated by space ')\n",
        "crypto_conv_rate_in_dollars=clean_user_inpt(c_in_dollars)\n",
        "\n",
        "c_for_bitcoin = check_number_of_units(user_entires[0],'Enter Crypto units 1 bitcoin can buy separated by space ')\n",
        "crypto_units_for_1_bitcoin=clean_user_inpt(c_for_bitcoin)\n",
        "#\n",
        "print(\"User Entries:\", user_entires)\n",
        "print(\"Crypto Conversion rates in dollars:\", crypto_conv_rate_in_dollars)\n",
        "print(\"Crypto Units for 1 bitcoin:\", crypto_units_for_1_bitcoin)\n",
        "\n",
        "#Calucate the max dollar value and print:\n",
        "value_of_crypto_in_dollars = []\n",
        "for i in range(user_entires[0]):\n",
        "    # print(crypto)\n",
        "    value_of_crypto_in_dollars.append(crypto_conv_rate_in_dollars[i]*crypto_units_for_1_bitcoin[i]*user_entires[1])\n",
        "value_of_crypto_in_dollars.append(user_entires[2])\n",
        "print(max(value_of_crypto_in_dollars))\n"
      ]
    },
    {
      "cell_type": "code",
      "source": [
        ""
      ],
      "metadata": {
        "id": "QTei2n6TW3f4"
      },
      "execution_count": null,
      "outputs": []
    }
  ]
}